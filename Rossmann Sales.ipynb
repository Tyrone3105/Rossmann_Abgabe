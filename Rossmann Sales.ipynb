{
 "cells": [
  {
   "cell_type": "markdown",
   "metadata": {},
   "source": [
    "# Rossmann Sales Projekt"
   ]
  },
  {
   "cell_type": "markdown",
   "metadata": {},
   "source": [
    "### Von Jannik und Tyrone"
   ]
  },
  {
   "cell_type": "markdown",
   "metadata": {},
   "source": [
    "##### Rossmann operates over 3,000 drug stores in 7 European countries. Currently, Rossmann store managers are tasked with predicting their daily sales for up to six weeks in advance. Store sales are influenced by many factors, including promotions, competition, school and state holidays, seasonality, and locality. With thousands of individual managers predicting sales based on their unique circumstances, the accuracy of results can be quite varied.\n",
    "\n",
    "##### In their first Kaggle competition, Rossmann is challenging you to predict 6 weeks of daily sales for 1,115 stores located across Germany. Reliable sales forecasts enable store managers to create effective staff schedules that increase productivity and motivation. By helping Rossmann create a robust prediction model, you will help store managers stay focused on what’s most important to them: their customers and their teams! "
   ]
  },
  {
   "cell_type": "markdown",
   "metadata": {},
   "source": [
    "### Daten Laden"
   ]
  },
  {
   "cell_type": "code",
   "execution_count": 2,
   "metadata": {},
   "outputs": [],
   "source": [
    "import pandas as pd"
   ]
  },
  {
   "cell_type": "code",
   "execution_count": 3,
   "metadata": {},
   "outputs": [
    {
     "name": "stderr",
     "output_type": "stream",
     "text": [
      "C:\\Users\\tyron\\AppData\\Local\\Temp\\ipykernel_11992\\2716483640.py:2: DtypeWarning: Columns (7) have mixed types. Specify dtype option on import or set low_memory=False.\n",
      "  df = pd.read_csv('train.csv')\n"
     ]
    }
   ],
   "source": [
    "store_df = pd.read_csv('store.csv')\n",
    "df = pd.read_csv('train.csv')\n",
    "df_test = pd.read_csv('test.csv')"
   ]
  },
  {
   "cell_type": "code",
   "execution_count": 4,
   "metadata": {},
   "outputs": [],
   "source": [
    "merged_df = pd.merge(df, store_df, on='Store', how='left')\n",
    "merged_df_test = pd.merge(df_test, store_df, on='Store', how='left')"
   ]
  },
  {
   "cell_type": "markdown",
   "metadata": {},
   "source": [
    "### EDA Part 1 "
   ]
  },
  {
   "cell_type": "code",
   "execution_count": 5,
   "metadata": {},
   "outputs": [
    {
     "data": {
      "text/html": [
       "<div>\n",
       "<style scoped>\n",
       "    .dataframe tbody tr th:only-of-type {\n",
       "        vertical-align: middle;\n",
       "    }\n",
       "\n",
       "    .dataframe tbody tr th {\n",
       "        vertical-align: top;\n",
       "    }\n",
       "\n",
       "    .dataframe thead th {\n",
       "        text-align: right;\n",
       "    }\n",
       "</style>\n",
       "<table border=\"1\" class=\"dataframe\">\n",
       "  <thead>\n",
       "    <tr style=\"text-align: right;\">\n",
       "      <th></th>\n",
       "      <th>Store</th>\n",
       "      <th>DayOfWeek</th>\n",
       "      <th>Date</th>\n",
       "      <th>Sales</th>\n",
       "      <th>Customers</th>\n",
       "      <th>Open</th>\n",
       "      <th>Promo</th>\n",
       "      <th>StateHoliday</th>\n",
       "      <th>SchoolHoliday</th>\n",
       "      <th>StoreType</th>\n",
       "      <th>Assortment</th>\n",
       "      <th>CompetitionDistance</th>\n",
       "      <th>CompetitionOpenSinceMonth</th>\n",
       "      <th>CompetitionOpenSinceYear</th>\n",
       "      <th>Promo2</th>\n",
       "      <th>Promo2SinceWeek</th>\n",
       "      <th>Promo2SinceYear</th>\n",
       "      <th>PromoInterval</th>\n",
       "    </tr>\n",
       "  </thead>\n",
       "  <tbody>\n",
       "    <tr>\n",
       "      <th>0</th>\n",
       "      <td>1</td>\n",
       "      <td>5</td>\n",
       "      <td>2015-07-31</td>\n",
       "      <td>5263</td>\n",
       "      <td>555</td>\n",
       "      <td>1</td>\n",
       "      <td>1</td>\n",
       "      <td>0</td>\n",
       "      <td>1</td>\n",
       "      <td>c</td>\n",
       "      <td>a</td>\n",
       "      <td>1270.0</td>\n",
       "      <td>9.0</td>\n",
       "      <td>2008.0</td>\n",
       "      <td>0</td>\n",
       "      <td>NaN</td>\n",
       "      <td>NaN</td>\n",
       "      <td>NaN</td>\n",
       "    </tr>\n",
       "    <tr>\n",
       "      <th>1</th>\n",
       "      <td>2</td>\n",
       "      <td>5</td>\n",
       "      <td>2015-07-31</td>\n",
       "      <td>6064</td>\n",
       "      <td>625</td>\n",
       "      <td>1</td>\n",
       "      <td>1</td>\n",
       "      <td>0</td>\n",
       "      <td>1</td>\n",
       "      <td>a</td>\n",
       "      <td>a</td>\n",
       "      <td>570.0</td>\n",
       "      <td>11.0</td>\n",
       "      <td>2007.0</td>\n",
       "      <td>1</td>\n",
       "      <td>13.0</td>\n",
       "      <td>2010.0</td>\n",
       "      <td>Jan,Apr,Jul,Oct</td>\n",
       "    </tr>\n",
       "    <tr>\n",
       "      <th>2</th>\n",
       "      <td>3</td>\n",
       "      <td>5</td>\n",
       "      <td>2015-07-31</td>\n",
       "      <td>8314</td>\n",
       "      <td>821</td>\n",
       "      <td>1</td>\n",
       "      <td>1</td>\n",
       "      <td>0</td>\n",
       "      <td>1</td>\n",
       "      <td>a</td>\n",
       "      <td>a</td>\n",
       "      <td>14130.0</td>\n",
       "      <td>12.0</td>\n",
       "      <td>2006.0</td>\n",
       "      <td>1</td>\n",
       "      <td>14.0</td>\n",
       "      <td>2011.0</td>\n",
       "      <td>Jan,Apr,Jul,Oct</td>\n",
       "    </tr>\n",
       "    <tr>\n",
       "      <th>3</th>\n",
       "      <td>4</td>\n",
       "      <td>5</td>\n",
       "      <td>2015-07-31</td>\n",
       "      <td>13995</td>\n",
       "      <td>1498</td>\n",
       "      <td>1</td>\n",
       "      <td>1</td>\n",
       "      <td>0</td>\n",
       "      <td>1</td>\n",
       "      <td>c</td>\n",
       "      <td>c</td>\n",
       "      <td>620.0</td>\n",
       "      <td>9.0</td>\n",
       "      <td>2009.0</td>\n",
       "      <td>0</td>\n",
       "      <td>NaN</td>\n",
       "      <td>NaN</td>\n",
       "      <td>NaN</td>\n",
       "    </tr>\n",
       "    <tr>\n",
       "      <th>4</th>\n",
       "      <td>5</td>\n",
       "      <td>5</td>\n",
       "      <td>2015-07-31</td>\n",
       "      <td>4822</td>\n",
       "      <td>559</td>\n",
       "      <td>1</td>\n",
       "      <td>1</td>\n",
       "      <td>0</td>\n",
       "      <td>1</td>\n",
       "      <td>a</td>\n",
       "      <td>a</td>\n",
       "      <td>29910.0</td>\n",
       "      <td>4.0</td>\n",
       "      <td>2015.0</td>\n",
       "      <td>0</td>\n",
       "      <td>NaN</td>\n",
       "      <td>NaN</td>\n",
       "      <td>NaN</td>\n",
       "    </tr>\n",
       "  </tbody>\n",
       "</table>\n",
       "</div>"
      ],
      "text/plain": [
       "   Store  DayOfWeek        Date  Sales  Customers  Open  Promo StateHoliday  \\\n",
       "0      1          5  2015-07-31   5263        555     1      1            0   \n",
       "1      2          5  2015-07-31   6064        625     1      1            0   \n",
       "2      3          5  2015-07-31   8314        821     1      1            0   \n",
       "3      4          5  2015-07-31  13995       1498     1      1            0   \n",
       "4      5          5  2015-07-31   4822        559     1      1            0   \n",
       "\n",
       "   SchoolHoliday StoreType Assortment  CompetitionDistance  \\\n",
       "0              1         c          a               1270.0   \n",
       "1              1         a          a                570.0   \n",
       "2              1         a          a              14130.0   \n",
       "3              1         c          c                620.0   \n",
       "4              1         a          a              29910.0   \n",
       "\n",
       "   CompetitionOpenSinceMonth  CompetitionOpenSinceYear  Promo2  \\\n",
       "0                        9.0                    2008.0       0   \n",
       "1                       11.0                    2007.0       1   \n",
       "2                       12.0                    2006.0       1   \n",
       "3                        9.0                    2009.0       0   \n",
       "4                        4.0                    2015.0       0   \n",
       "\n",
       "   Promo2SinceWeek  Promo2SinceYear    PromoInterval  \n",
       "0              NaN              NaN              NaN  \n",
       "1             13.0           2010.0  Jan,Apr,Jul,Oct  \n",
       "2             14.0           2011.0  Jan,Apr,Jul,Oct  \n",
       "3              NaN              NaN              NaN  \n",
       "4              NaN              NaN              NaN  "
      ]
     },
     "execution_count": 5,
     "metadata": {},
     "output_type": "execute_result"
    }
   ],
   "source": [
    "merged_df.head()"
   ]
  },
  {
   "cell_type": "code",
   "execution_count": 6,
   "metadata": {},
   "outputs": [
    {
     "name": "stdout",
     "output_type": "stream",
     "text": [
      "<class 'pandas.core.frame.DataFrame'>\n",
      "RangeIndex: 1017209 entries, 0 to 1017208\n",
      "Data columns (total 18 columns):\n",
      " #   Column                     Non-Null Count    Dtype  \n",
      "---  ------                     --------------    -----  \n",
      " 0   Store                      1017209 non-null  int64  \n",
      " 1   DayOfWeek                  1017209 non-null  int64  \n",
      " 2   Date                       1017209 non-null  object \n",
      " 3   Sales                      1017209 non-null  int64  \n",
      " 4   Customers                  1017209 non-null  int64  \n",
      " 5   Open                       1017209 non-null  int64  \n",
      " 6   Promo                      1017209 non-null  int64  \n",
      " 7   StateHoliday               1017209 non-null  object \n",
      " 8   SchoolHoliday              1017209 non-null  int64  \n",
      " 9   StoreType                  1017209 non-null  object \n",
      " 10  Assortment                 1017209 non-null  object \n",
      " 11  CompetitionDistance        1014567 non-null  float64\n",
      " 12  CompetitionOpenSinceMonth  693861 non-null   float64\n",
      " 13  CompetitionOpenSinceYear   693861 non-null   float64\n",
      " 14  Promo2                     1017209 non-null  int64  \n",
      " 15  Promo2SinceWeek            509178 non-null   float64\n",
      " 16  Promo2SinceYear            509178 non-null   float64\n",
      " 17  PromoInterval              509178 non-null   object \n",
      "dtypes: float64(5), int64(8), object(5)\n",
      "memory usage: 139.7+ MB\n"
     ]
    }
   ],
   "source": [
    "merged_df.info()"
   ]
  },
  {
   "cell_type": "code",
   "execution_count": 7,
   "metadata": {},
   "outputs": [
    {
     "data": {
      "text/plain": [
       "Store                             0\n",
       "DayOfWeek                         0\n",
       "Date                              0\n",
       "Sales                             0\n",
       "Customers                         0\n",
       "Open                              0\n",
       "Promo                             0\n",
       "StateHoliday                      0\n",
       "SchoolHoliday                     0\n",
       "StoreType                         0\n",
       "Assortment                        0\n",
       "CompetitionDistance            2642\n",
       "CompetitionOpenSinceMonth    323348\n",
       "CompetitionOpenSinceYear     323348\n",
       "Promo2                            0\n",
       "Promo2SinceWeek              508031\n",
       "Promo2SinceYear              508031\n",
       "PromoInterval                508031\n",
       "dtype: int64"
      ]
     },
     "execution_count": 7,
     "metadata": {},
     "output_type": "execute_result"
    }
   ],
   "source": [
    "merged_df.isna().sum()"
   ]
  },
  {
   "cell_type": "code",
   "execution_count": 8,
   "metadata": {},
   "outputs": [
    {
     "data": {
      "text/html": [
       "<div>\n",
       "<style scoped>\n",
       "    .dataframe tbody tr th:only-of-type {\n",
       "        vertical-align: middle;\n",
       "    }\n",
       "\n",
       "    .dataframe tbody tr th {\n",
       "        vertical-align: top;\n",
       "    }\n",
       "\n",
       "    .dataframe thead th {\n",
       "        text-align: right;\n",
       "    }\n",
       "</style>\n",
       "<table border=\"1\" class=\"dataframe\">\n",
       "  <thead>\n",
       "    <tr style=\"text-align: right;\">\n",
       "      <th></th>\n",
       "      <th>Id</th>\n",
       "      <th>Store</th>\n",
       "      <th>DayOfWeek</th>\n",
       "      <th>Date</th>\n",
       "      <th>Open</th>\n",
       "      <th>Promo</th>\n",
       "      <th>StateHoliday</th>\n",
       "      <th>SchoolHoliday</th>\n",
       "      <th>StoreType</th>\n",
       "      <th>Assortment</th>\n",
       "      <th>CompetitionDistance</th>\n",
       "      <th>CompetitionOpenSinceMonth</th>\n",
       "      <th>CompetitionOpenSinceYear</th>\n",
       "      <th>Promo2</th>\n",
       "      <th>Promo2SinceWeek</th>\n",
       "      <th>Promo2SinceYear</th>\n",
       "      <th>PromoInterval</th>\n",
       "    </tr>\n",
       "  </thead>\n",
       "  <tbody>\n",
       "    <tr>\n",
       "      <th>0</th>\n",
       "      <td>1</td>\n",
       "      <td>1</td>\n",
       "      <td>4</td>\n",
       "      <td>2015-09-17</td>\n",
       "      <td>1.0</td>\n",
       "      <td>1</td>\n",
       "      <td>0</td>\n",
       "      <td>0</td>\n",
       "      <td>c</td>\n",
       "      <td>a</td>\n",
       "      <td>1270.0</td>\n",
       "      <td>9.0</td>\n",
       "      <td>2008.0</td>\n",
       "      <td>0</td>\n",
       "      <td>NaN</td>\n",
       "      <td>NaN</td>\n",
       "      <td>NaN</td>\n",
       "    </tr>\n",
       "    <tr>\n",
       "      <th>1</th>\n",
       "      <td>2</td>\n",
       "      <td>3</td>\n",
       "      <td>4</td>\n",
       "      <td>2015-09-17</td>\n",
       "      <td>1.0</td>\n",
       "      <td>1</td>\n",
       "      <td>0</td>\n",
       "      <td>0</td>\n",
       "      <td>a</td>\n",
       "      <td>a</td>\n",
       "      <td>14130.0</td>\n",
       "      <td>12.0</td>\n",
       "      <td>2006.0</td>\n",
       "      <td>1</td>\n",
       "      <td>14.0</td>\n",
       "      <td>2011.0</td>\n",
       "      <td>Jan,Apr,Jul,Oct</td>\n",
       "    </tr>\n",
       "    <tr>\n",
       "      <th>2</th>\n",
       "      <td>3</td>\n",
       "      <td>7</td>\n",
       "      <td>4</td>\n",
       "      <td>2015-09-17</td>\n",
       "      <td>1.0</td>\n",
       "      <td>1</td>\n",
       "      <td>0</td>\n",
       "      <td>0</td>\n",
       "      <td>a</td>\n",
       "      <td>c</td>\n",
       "      <td>24000.0</td>\n",
       "      <td>4.0</td>\n",
       "      <td>2013.0</td>\n",
       "      <td>0</td>\n",
       "      <td>NaN</td>\n",
       "      <td>NaN</td>\n",
       "      <td>NaN</td>\n",
       "    </tr>\n",
       "    <tr>\n",
       "      <th>3</th>\n",
       "      <td>4</td>\n",
       "      <td>8</td>\n",
       "      <td>4</td>\n",
       "      <td>2015-09-17</td>\n",
       "      <td>1.0</td>\n",
       "      <td>1</td>\n",
       "      <td>0</td>\n",
       "      <td>0</td>\n",
       "      <td>a</td>\n",
       "      <td>a</td>\n",
       "      <td>7520.0</td>\n",
       "      <td>10.0</td>\n",
       "      <td>2014.0</td>\n",
       "      <td>0</td>\n",
       "      <td>NaN</td>\n",
       "      <td>NaN</td>\n",
       "      <td>NaN</td>\n",
       "    </tr>\n",
       "    <tr>\n",
       "      <th>4</th>\n",
       "      <td>5</td>\n",
       "      <td>9</td>\n",
       "      <td>4</td>\n",
       "      <td>2015-09-17</td>\n",
       "      <td>1.0</td>\n",
       "      <td>1</td>\n",
       "      <td>0</td>\n",
       "      <td>0</td>\n",
       "      <td>a</td>\n",
       "      <td>c</td>\n",
       "      <td>2030.0</td>\n",
       "      <td>8.0</td>\n",
       "      <td>2000.0</td>\n",
       "      <td>0</td>\n",
       "      <td>NaN</td>\n",
       "      <td>NaN</td>\n",
       "      <td>NaN</td>\n",
       "    </tr>\n",
       "  </tbody>\n",
       "</table>\n",
       "</div>"
      ],
      "text/plain": [
       "   Id  Store  DayOfWeek        Date  Open  Promo StateHoliday  SchoolHoliday  \\\n",
       "0   1      1          4  2015-09-17   1.0      1            0              0   \n",
       "1   2      3          4  2015-09-17   1.0      1            0              0   \n",
       "2   3      7          4  2015-09-17   1.0      1            0              0   \n",
       "3   4      8          4  2015-09-17   1.0      1            0              0   \n",
       "4   5      9          4  2015-09-17   1.0      1            0              0   \n",
       "\n",
       "  StoreType Assortment  CompetitionDistance  CompetitionOpenSinceMonth  \\\n",
       "0         c          a               1270.0                        9.0   \n",
       "1         a          a              14130.0                       12.0   \n",
       "2         a          c              24000.0                        4.0   \n",
       "3         a          a               7520.0                       10.0   \n",
       "4         a          c               2030.0                        8.0   \n",
       "\n",
       "   CompetitionOpenSinceYear  Promo2  Promo2SinceWeek  Promo2SinceYear  \\\n",
       "0                    2008.0       0              NaN              NaN   \n",
       "1                    2006.0       1             14.0           2011.0   \n",
       "2                    2013.0       0              NaN              NaN   \n",
       "3                    2014.0       0              NaN              NaN   \n",
       "4                    2000.0       0              NaN              NaN   \n",
       "\n",
       "     PromoInterval  \n",
       "0              NaN  \n",
       "1  Jan,Apr,Jul,Oct  \n",
       "2              NaN  \n",
       "3              NaN  \n",
       "4              NaN  "
      ]
     },
     "execution_count": 8,
     "metadata": {},
     "output_type": "execute_result"
    }
   ],
   "source": [
    "merged_df_test.head()"
   ]
  },
  {
   "cell_type": "code",
   "execution_count": 9,
   "metadata": {},
   "outputs": [
    {
     "name": "stdout",
     "output_type": "stream",
     "text": [
      "<class 'pandas.core.frame.DataFrame'>\n",
      "RangeIndex: 41088 entries, 0 to 41087\n",
      "Data columns (total 17 columns):\n",
      " #   Column                     Non-Null Count  Dtype  \n",
      "---  ------                     --------------  -----  \n",
      " 0   Id                         41088 non-null  int64  \n",
      " 1   Store                      41088 non-null  int64  \n",
      " 2   DayOfWeek                  41088 non-null  int64  \n",
      " 3   Date                       41088 non-null  object \n",
      " 4   Open                       41077 non-null  float64\n",
      " 5   Promo                      41088 non-null  int64  \n",
      " 6   StateHoliday               41088 non-null  object \n",
      " 7   SchoolHoliday              41088 non-null  int64  \n",
      " 8   StoreType                  41088 non-null  object \n",
      " 9   Assortment                 41088 non-null  object \n",
      " 10  CompetitionDistance        40992 non-null  float64\n",
      " 11  CompetitionOpenSinceMonth  25872 non-null  float64\n",
      " 12  CompetitionOpenSinceYear   25872 non-null  float64\n",
      " 13  Promo2                     41088 non-null  int64  \n",
      " 14  Promo2SinceWeek            23856 non-null  float64\n",
      " 15  Promo2SinceYear            23856 non-null  float64\n",
      " 16  PromoInterval              23856 non-null  object \n",
      "dtypes: float64(6), int64(6), object(5)\n",
      "memory usage: 5.3+ MB\n"
     ]
    }
   ],
   "source": [
    "merged_df_test.info()"
   ]
  },
  {
   "cell_type": "code",
   "execution_count": 10,
   "metadata": {},
   "outputs": [
    {
     "name": "stdout",
     "output_type": "stream",
     "text": [
      "856\n"
     ]
    },
    {
     "data": {
      "text/plain": [
       "41088"
      ]
     },
     "execution_count": 10,
     "metadata": {},
     "output_type": "execute_result"
    }
   ],
   "source": [
    "# Was ist der Unterschied zwischen ID und Store im Test-Dataframe?\n",
    "print(merged_df_test['Store'].nunique())\n",
    "merged_df_test['Id'].nunique()\n",
    "# Anzahl der Unique ID's = Anzahl der Einträge"
   ]
  },
  {
   "cell_type": "markdown",
   "metadata": {},
   "source": [
    "### Resultat aus EDA Part 1: Erster Überblick über die gegebenen Datensätze, Datum muss zerpflückt werden, es gibt einige Null Werte, einige Spalten müssen noch in numerische Werte umgewandelt werden, Spalte \"ID\" im Testdataframe ist irrelevant"
   ]
  },
  {
   "cell_type": "markdown",
   "metadata": {},
   "source": [
    "### Data Cleaning"
   ]
  },
  {
   "cell_type": "code",
   "execution_count": 11,
   "metadata": {},
   "outputs": [],
   "source": [
    "# Ids vorher speichern, für Kaggle Submissions\n",
    "df_test_ids = merged_df_test['Id']\n",
    "merged_df_test.drop('Id', axis=1, inplace=True)"
   ]
  },
  {
   "cell_type": "markdown",
   "metadata": {},
   "source": [
    "### Null Werte behandeln"
   ]
  },
  {
   "cell_type": "code",
   "execution_count": 12,
   "metadata": {},
   "outputs": [],
   "source": [
    "merged_df[\"CompetitionDistance\"].fillna(merged_df[\"CompetitionDistance\"].mean(),inplace=True)\n",
    "merged_df.fillna(-1, inplace=True)\n",
    "merged_df_test[\"CompetitionDistance\"].fillna(merged_df_test[\"CompetitionDistance\"].mean(),inplace=True)\n",
    "merged_df_test.fillna(-1, inplace=True)"
   ]
  },
  {
   "cell_type": "markdown",
   "metadata": {},
   "source": [
    "##### Prüfen, ob jetzt alles gefüllt ist"
   ]
  },
  {
   "cell_type": "code",
   "execution_count": 13,
   "metadata": {},
   "outputs": [
    {
     "data": {
      "text/plain": [
       "Store                        0\n",
       "DayOfWeek                    0\n",
       "Date                         0\n",
       "Sales                        0\n",
       "Customers                    0\n",
       "Open                         0\n",
       "Promo                        0\n",
       "StateHoliday                 0\n",
       "SchoolHoliday                0\n",
       "StoreType                    0\n",
       "Assortment                   0\n",
       "CompetitionDistance          0\n",
       "CompetitionOpenSinceMonth    0\n",
       "CompetitionOpenSinceYear     0\n",
       "Promo2                       0\n",
       "Promo2SinceWeek              0\n",
       "Promo2SinceYear              0\n",
       "PromoInterval                0\n",
       "dtype: int64"
      ]
     },
     "execution_count": 13,
     "metadata": {},
     "output_type": "execute_result"
    }
   ],
   "source": [
    "merged_df.isna().sum()"
   ]
  },
  {
   "cell_type": "markdown",
   "metadata": {},
   "source": [
    "##### Prüfen, ob jetzt alles gefüllt ist"
   ]
  },
  {
   "cell_type": "code",
   "execution_count": 14,
   "metadata": {},
   "outputs": [
    {
     "data": {
      "text/plain": [
       "Store                        0\n",
       "DayOfWeek                    0\n",
       "Date                         0\n",
       "Open                         0\n",
       "Promo                        0\n",
       "StateHoliday                 0\n",
       "SchoolHoliday                0\n",
       "StoreType                    0\n",
       "Assortment                   0\n",
       "CompetitionDistance          0\n",
       "CompetitionOpenSinceMonth    0\n",
       "CompetitionOpenSinceYear     0\n",
       "Promo2                       0\n",
       "Promo2SinceWeek              0\n",
       "Promo2SinceYear              0\n",
       "PromoInterval                0\n",
       "dtype: int64"
      ]
     },
     "execution_count": 14,
     "metadata": {},
     "output_type": "execute_result"
    }
   ],
   "source": [
    "merged_df_test.isna().sum()"
   ]
  },
  {
   "cell_type": "markdown",
   "metadata": {},
   "source": [
    "### Daten aus Date extrahieren"
   ]
  },
  {
   "cell_type": "code",
   "execution_count": 15,
   "metadata": {},
   "outputs": [],
   "source": [
    "merged_df[\"Year\"] = merged_df[\"Date\"].str.slice(0, 4)\n",
    "merged_df[\"Month\"] = merged_df[\"Date\"].str.slice(5, 7)\n",
    "merged_df[\"Day\"] = merged_df[\"Date\"].str.slice(8, 10)\n",
    "merged_df[\"Year\"] = merged_df[\"Year\"].astype(\"Int32\")\n",
    "merged_df[\"Month\"] = merged_df[\"Month\"].astype(\"Int32\")\n",
    "merged_df[\"Day\"] = merged_df[\"Day\"].astype(\"Int32\")\n",
    "merged_df.drop(columns=[\"Date\"], inplace=True)\n",
    "\n",
    "merged_df_test[\"Year\"] = merged_df_test[\"Date\"].str.slice(0, 4)\n",
    "merged_df_test[\"Month\"] = merged_df_test[\"Date\"].str.slice(5, 7)\n",
    "merged_df_test[\"Day\"] = merged_df_test[\"Date\"].str.slice(8, 10)\n",
    "merged_df_test[\"Year\"] = merged_df_test[\"Year\"].astype(\"Int32\")\n",
    "merged_df_test[\"Month\"] = merged_df_test[\"Month\"].astype(\"Int32\")\n",
    "merged_df_test[\"Day\"] = merged_df_test[\"Day\"].astype(\"Int32\")\n",
    "merged_df_test.drop(columns=[\"Date\"], inplace=True)"
   ]
  },
  {
   "cell_type": "code",
   "execution_count": 16,
   "metadata": {},
   "outputs": [],
   "source": [
    "from sklearn.preprocessing import LabelEncoder\n",
    "\n",
    "### Fehlschlag: Ohne die folgenden Zeilen schlägt das kodieren fehl, weil die Datentypen innerhalb einer oder mehrerer Spalten uneinheitlich sind\n",
    "merged_df[\"StateHoliday\"] = merged_df[\"StateHoliday\"].astype(str)\n",
    "merged_df[\"StoreType\"] = merged_df[\"StoreType\"].astype(str)\n",
    "merged_df[\"Assortment\"] = merged_df[\"Assortment\"].astype(str)\n",
    "merged_df[\"PromoInterval\"] = merged_df[\"PromoInterval\"].astype(str)\n",
    "\n",
    "merged_df_test[\"StateHoliday\"] = merged_df_test[\"StateHoliday\"].astype(str)\n",
    "merged_df_test[\"StoreType\"] = merged_df_test[\"StoreType\"].astype(str)\n",
    "merged_df_test[\"Assortment\"] = merged_df_test[\"Assortment\"].astype(str)\n",
    "merged_df_test[\"PromoInterval\"] = merged_df_test[\"PromoInterval\"].astype(str)\n",
    "###\n",
    "\n",
    "columns_to_encode = [\"StateHoliday\", \"StoreType\", \"Assortment\", \"PromoInterval\"]\n",
    "\n",
    "label_encoder = LabelEncoder()\n",
    "\n",
    "for column in columns_to_encode:   \n",
    "    merged_df[column] = label_encoder.fit_transform(merged_df[column])\n",
    "    merged_df_test[column] = label_encoder.fit_transform(merged_df_test[column])\n"
   ]
  },
  {
   "cell_type": "markdown",
   "metadata": {},
   "source": [
    "## EDA Part 2"
   ]
  },
  {
   "cell_type": "code",
   "execution_count": 17,
   "metadata": {},
   "outputs": [
    {
     "name": "stdout",
     "output_type": "stream",
     "text": [
      "<class 'pandas.core.frame.DataFrame'>\n",
      "RangeIndex: 1017209 entries, 0 to 1017208\n",
      "Data columns (total 20 columns):\n",
      " #   Column                     Non-Null Count    Dtype  \n",
      "---  ------                     --------------    -----  \n",
      " 0   Store                      1017209 non-null  int64  \n",
      " 1   DayOfWeek                  1017209 non-null  int64  \n",
      " 2   Sales                      1017209 non-null  int64  \n",
      " 3   Customers                  1017209 non-null  int64  \n",
      " 4   Open                       1017209 non-null  int64  \n",
      " 5   Promo                      1017209 non-null  int64  \n",
      " 6   StateHoliday               1017209 non-null  int32  \n",
      " 7   SchoolHoliday              1017209 non-null  int64  \n",
      " 8   StoreType                  1017209 non-null  int32  \n",
      " 9   Assortment                 1017209 non-null  int32  \n",
      " 10  CompetitionDistance        1017209 non-null  float64\n",
      " 11  CompetitionOpenSinceMonth  1017209 non-null  float64\n",
      " 12  CompetitionOpenSinceYear   1017209 non-null  float64\n",
      " 13  Promo2                     1017209 non-null  int64  \n",
      " 14  Promo2SinceWeek            1017209 non-null  float64\n",
      " 15  Promo2SinceYear            1017209 non-null  float64\n",
      " 16  PromoInterval              1017209 non-null  int32  \n",
      " 17  Year                       1017209 non-null  Int32  \n",
      " 18  Month                      1017209 non-null  Int32  \n",
      " 19  Day                        1017209 non-null  Int32  \n",
      "dtypes: Int32(3), float64(5), int32(4), int64(8)\n",
      "memory usage: 131.0 MB\n"
     ]
    }
   ],
   "source": [
    "merged_df.info()"
   ]
  },
  {
   "cell_type": "code",
   "execution_count": 18,
   "metadata": {},
   "outputs": [
    {
     "data": {
      "image/png": "[encoded data removed]",
      "text/plain": [
       "<Figure size 1000x1000 with 2 Axes>"
      ]
     },
     "metadata": {},
     "output_type": "display_data"
    }
   ],
   "source": [
    "# Korrlationen anzeigen\n",
    "import seaborn as sns\n",
    "import matplotlib.pyplot as plt\n",
    "\n",
    "plt.figure(figsize=(10,10))\n",
    "sns.heatmap(merged_df.corr()[['Sales']].sort_values('Sales'), annot=True, cmap='coolwarm', vmin=-1, vmax=1)\n",
    "plt.show()"
   ]
  },
  {
   "cell_type": "markdown",
   "metadata": {},
   "source": [
    "### CompetitionOpenSinceMonth und CompetitionOpenSinceYear hatten beide sehr viele fehlende Werte und scheinen eher irrelevant, weshalb wir sie rauswerfen"
   ]
  },
  {
   "cell_type": "code",
   "execution_count": 19,
   "metadata": {},
   "outputs": [],
   "source": [
    "# merged_df.drop(columns=[\"CompetitionOpenSinceMonth\",\"CompetitionOpenSinceYear\"], inplace=True)\n",
    "# merged_df_test.drop(columns=[\"CompetitionOpenSinceMonth\",\"CompetitionOpenSinceYear\"], inplace=True)"
   ]
  },
  {
   "cell_type": "markdown",
   "metadata": {},
   "source": [
    "### Das auslassen der Spalten wurde später verworfen, weil die feature importance vom Random Forest darauf hindeutet, dass diese Features doch relevant sind"
   ]
  },
  {
   "cell_type": "code",
   "execution_count": 20,
   "metadata": {},
   "outputs": [
    {
     "data": {
      "text/html": [
       "<div>\n",
       "<style scoped>\n",
       "    .dataframe tbody tr th:only-of-type {\n",
       "        vertical-align: middle;\n",
       "    }\n",
       "\n",
       "    .dataframe tbody tr th {\n",
       "        vertical-align: top;\n",
       "    }\n",
       "\n",
       "    .dataframe thead th {\n",
       "        text-align: right;\n",
       "    }\n",
       "</style>\n",
       "<table border=\"1\" class=\"dataframe\">\n",
       "  <thead>\n",
       "    <tr style=\"text-align: right;\">\n",
       "      <th></th>\n",
       "      <th>Store</th>\n",
       "      <th>DayOfWeek</th>\n",
       "      <th>Sales</th>\n",
       "      <th>Customers</th>\n",
       "      <th>Open</th>\n",
       "      <th>Promo</th>\n",
       "      <th>StateHoliday</th>\n",
       "      <th>SchoolHoliday</th>\n",
       "      <th>StoreType</th>\n",
       "      <th>Assortment</th>\n",
       "      <th>CompetitionDistance</th>\n",
       "      <th>CompetitionOpenSinceMonth</th>\n",
       "      <th>CompetitionOpenSinceYear</th>\n",
       "      <th>Promo2</th>\n",
       "      <th>Promo2SinceWeek</th>\n",
       "      <th>Promo2SinceYear</th>\n",
       "      <th>PromoInterval</th>\n",
       "      <th>Year</th>\n",
       "      <th>Month</th>\n",
       "      <th>Day</th>\n",
       "    </tr>\n",
       "  </thead>\n",
       "  <tbody>\n",
       "    <tr>\n",
       "      <th>0</th>\n",
       "      <td>1</td>\n",
       "      <td>5</td>\n",
       "      <td>5263</td>\n",
       "      <td>555</td>\n",
       "      <td>1</td>\n",
       "      <td>1</td>\n",
       "      <td>0</td>\n",
       "      <td>1</td>\n",
       "      <td>2</td>\n",
       "      <td>0</td>\n",
       "      <td>1270.0</td>\n",
       "      <td>9.0</td>\n",
       "      <td>2008.0</td>\n",
       "      <td>0</td>\n",
       "      <td>-1.0</td>\n",
       "      <td>-1.0</td>\n",
       "      <td>0</td>\n",
       "      <td>2015</td>\n",
       "      <td>7</td>\n",
       "      <td>31</td>\n",
       "    </tr>\n",
       "    <tr>\n",
       "      <th>1</th>\n",
       "      <td>2</td>\n",
       "      <td>5</td>\n",
       "      <td>6064</td>\n",
       "      <td>625</td>\n",
       "      <td>1</td>\n",
       "      <td>1</td>\n",
       "      <td>0</td>\n",
       "      <td>1</td>\n",
       "      <td>0</td>\n",
       "      <td>0</td>\n",
       "      <td>570.0</td>\n",
       "      <td>11.0</td>\n",
       "      <td>2007.0</td>\n",
       "      <td>1</td>\n",
       "      <td>13.0</td>\n",
       "      <td>2010.0</td>\n",
       "      <td>2</td>\n",
       "      <td>2015</td>\n",
       "      <td>7</td>\n",
       "      <td>31</td>\n",
       "    </tr>\n",
       "    <tr>\n",
       "      <th>2</th>\n",
       "      <td>3</td>\n",
       "      <td>5</td>\n",
       "      <td>8314</td>\n",
       "      <td>821</td>\n",
       "      <td>1</td>\n",
       "      <td>1</td>\n",
       "      <td>0</td>\n",
       "      <td>1</td>\n",
       "      <td>0</td>\n",
       "      <td>0</td>\n",
       "      <td>14130.0</td>\n",
       "      <td>12.0</td>\n",
       "      <td>2006.0</td>\n",
       "      <td>1</td>\n",
       "      <td>14.0</td>\n",
       "      <td>2011.0</td>\n",
       "      <td>2</td>\n",
       "      <td>2015</td>\n",
       "      <td>7</td>\n",
       "      <td>31</td>\n",
       "    </tr>\n",
       "    <tr>\n",
       "      <th>3</th>\n",
       "      <td>4</td>\n",
       "      <td>5</td>\n",
       "      <td>13995</td>\n",
       "      <td>1498</td>\n",
       "      <td>1</td>\n",
       "      <td>1</td>\n",
       "      <td>0</td>\n",
       "      <td>1</td>\n",
       "      <td>2</td>\n",
       "      <td>2</td>\n",
       "      <td>620.0</td>\n",
       "      <td>9.0</td>\n",
       "      <td>2009.0</td>\n",
       "      <td>0</td>\n",
       "      <td>-1.0</td>\n",
       "      <td>-1.0</td>\n",
       "      <td>0</td>\n",
       "      <td>2015</td>\n",
       "      <td>7</td>\n",
       "      <td>31</td>\n",
       "    </tr>\n",
       "    <tr>\n",
       "      <th>4</th>\n",
       "      <td>5</td>\n",
       "      <td>5</td>\n",
       "      <td>4822</td>\n",
       "      <td>559</td>\n",
       "      <td>1</td>\n",
       "      <td>1</td>\n",
       "      <td>0</td>\n",
       "      <td>1</td>\n",
       "      <td>0</td>\n",
       "      <td>0</td>\n",
       "      <td>29910.0</td>\n",
       "      <td>4.0</td>\n",
       "      <td>2015.0</td>\n",
       "      <td>0</td>\n",
       "      <td>-1.0</td>\n",
       "      <td>-1.0</td>\n",
       "      <td>0</td>\n",
       "      <td>2015</td>\n",
       "      <td>7</td>\n",
       "      <td>31</td>\n",
       "    </tr>\n",
       "  </tbody>\n",
       "</table>\n",
       "</div>"
      ],
      "text/plain": [
       "   Store  DayOfWeek  Sales  Customers  Open  Promo  StateHoliday  \\\n",
       "0      1          5   5263        555     1      1             0   \n",
       "1      2          5   6064        625     1      1             0   \n",
       "2      3          5   8314        821     1      1             0   \n",
       "3      4          5  13995       1498     1      1             0   \n",
       "4      5          5   4822        559     1      1             0   \n",
       "\n",
       "   SchoolHoliday  StoreType  Assortment  CompetitionDistance  \\\n",
       "0              1          2           0               1270.0   \n",
       "1              1          0           0                570.0   \n",
       "2              1          0           0              14130.0   \n",
       "3              1          2           2                620.0   \n",
       "4              1          0           0              29910.0   \n",
       "\n",
       "   CompetitionOpenSinceMonth  CompetitionOpenSinceYear  Promo2  \\\n",
       "0                        9.0                    2008.0       0   \n",
       "1                       11.0                    2007.0       1   \n",
       "2                       12.0                    2006.0       1   \n",
       "3                        9.0                    2009.0       0   \n",
       "4                        4.0                    2015.0       0   \n",
       "\n",
       "   Promo2SinceWeek  Promo2SinceYear  PromoInterval  Year  Month  Day  \n",
       "0             -1.0             -1.0              0  2015      7   31  \n",
       "1             13.0           2010.0              2  2015      7   31  \n",
       "2             14.0           2011.0              2  2015      7   31  \n",
       "3             -1.0             -1.0              0  2015      7   31  \n",
       "4             -1.0             -1.0              0  2015      7   31  "
      ]
     },
     "execution_count": 20,
     "metadata": {},
     "output_type": "execute_result"
    }
   ],
   "source": [
    "merged_df.head()"
   ]
  },
  {
   "cell_type": "markdown",
   "metadata": {},
   "source": [
    "### Für erste Ansätze wurde geschaut, wie sich die Einkäufe über die Wochentage verteilen"
   ]
  },
  {
   "cell_type": "code",
   "execution_count": 21,
   "metadata": {},
   "outputs": [
    {
     "data": {
      "image/png": "[encoded data removed]",
      "text/plain": [
       "<Figure size 1000x500 with 1 Axes>"
      ]
     },
     "metadata": {},
     "output_type": "display_data"
    }
   ],
   "source": [
    "plt.figure(figsize=(10,5))\n",
    "sns.barplot(x='DayOfWeek', y='Sales', data=merged_df)\n",
    "plt.show()"
   ]
  },
  {
   "cell_type": "markdown",
   "metadata": {},
   "source": [
    "### Überasschendes Ergebnis: Verkäufe am Sonntag, wie kann das sein? ---> siehe Finding 1"
   ]
  },
  {
   "cell_type": "markdown",
   "metadata": {},
   "source": [
    "## Feature Engineering"
   ]
  },
  {
   "cell_type": "code",
   "execution_count": 22,
   "metadata": {},
   "outputs": [],
   "source": [
    "# offenes Wochende Ja Nein Feature\n",
    "def OpenWeekend(row):\n",
    "    if (row['DayOfWeek'] == 6 or row['DayOfWeek'] == 7) and row['Open'] == 1:\n",
    "        return 1\n",
    "    else:\n",
    "        return 0\n",
    "\n",
    "merged_df['OpenWeekend'] = merged_df.apply(OpenWeekend, axis=1)\n",
    "merged_df_test['OpenWeekend'] = merged_df_test.apply(OpenWeekend, axis=1)"
   ]
  },
  {
   "cell_type": "code",
   "execution_count": 23,
   "metadata": {},
   "outputs": [],
   "source": [
    "# Feature hinzufügen, das angibt, ob es sich um einen offenen Feiertag handelt (Open=1 & StateHoliday=1 oder SchoolHoliday=1)\n",
    "def OpenHoliday(row):\n",
    "    if row[\"Open\"] == 1 and (row[\"StateHoliday\"] == 1 or row[\"SchoolHoliday\"] == 1):\n",
    "        return 1\n",
    "    else:\n",
    "        return 0\n",
    "\n",
    "merged_df[\"OpenHoliday\"] = merged_df.apply(OpenHoliday, axis=1)\n",
    "merged_df_test[\"OpenHoliday\"] = merged_df_test.apply(OpenHoliday, axis=1)"
   ]
  },
  {
   "cell_type": "code",
   "execution_count": 24,
   "metadata": {},
   "outputs": [],
   "source": [
    "# Rossmann ist bals Drogerie zu den Feiertagen ein beliebtes Geschäft für Geschenke\n",
    "# Deshalb schauen wir uns an, wie die Verkäufe zu den Weihnachtszeiten sind\n",
    "\n",
    "def ChristmasTime(row):\n",
    "    # Es wird zusätzlich nach Open=1 gefiltert, um beim Model fit ausreißer mit ChristmasTime=1 & Sales=0 zu vermeiden -> z.B. wenn an den Weihnachtstagen geschlossen ist\n",
    "    if row['Month'] == 11: #and row['Open'] == 1:\n",
    "        return 1\n",
    "    elif row['Month'] == 12 and row['Day'] <= 26 and row['Open'] == 1:\n",
    "        return 1\n",
    "    else:\n",
    "        return 0\n",
    "\n",
    "merged_df['ChristmasTime'] = merged_df.apply(ChristmasTime, axis=1)\n",
    "merged_df_test['ChristmasTime'] = merged_df_test.apply(ChristmasTime, axis=1)"
   ]
  },
  {
   "cell_type": "markdown",
   "metadata": {},
   "source": [
    "#### Für das feature ChristmasTime wird zusätzlich nach Open=1 gefiltert, um beim Model fit ausreißer mit ChristmasTime=1 & Sales=0 zu vermeiden -> z.B. wenn an den Weihnachtstagen geschlossen ist"
   ]
  },
  {
   "cell_type": "code",
   "execution_count": 25,
   "metadata": {},
   "outputs": [],
   "source": [
    "def GetQuarter(row):\n",
    "    if row[\"Month\"] <= 3:\n",
    "        return 1\n",
    "    elif row[\"Month\"] <= 6:\n",
    "        return 2\n",
    "    elif row[\"Month\"] <= 9:\n",
    "        return 3\n",
    "    else:\n",
    "        return 4\n",
    "\n",
    "merged_df[\"Quarter\"] = merged_df.apply(GetQuarter, axis=1)\n",
    "merged_df_test[\"Quarter\"] = merged_df_test.apply(GetQuarter, axis=1)"
   ]
  },
  {
   "cell_type": "markdown",
   "metadata": {},
   "source": [
    "## Feature importances"
   ]
  },
  {
   "cell_type": "code",
   "execution_count": 26,
   "metadata": {},
   "outputs": [
    {
     "data": {
      "image/png": "[encoded data removed]",
      "text/plain": [
       "<Figure size 1000x500 with 1 Axes>"
      ]
     },
     "metadata": {},
     "output_type": "display_data"
    }
   ],
   "source": [
    "from sklearn.ensemble import RandomForestRegressor\n",
    "\n",
    "X = merged_df.drop(columns=[\"Sales\",\"Customers\"])\n",
    "y = merged_df[\"Sales\"]\n",
    "\n",
    "model = RandomForestRegressor(n_jobs=-1)\n",
    "model.fit(X, y)\n",
    "\n",
    "importances = model.feature_importances_\n",
    "features = X.columns\n",
    "\n",
    "feature_importances = pd.DataFrame({\"feature\": features, \"importance\": importances})\n",
    "feature_importances = feature_importances.sort_values(by=\"importance\", ascending=False)\n",
    "\n",
    "plt.figure(figsize=(10,5))\n",
    "sns.barplot(x=\"importance\", y=\"feature\", data=feature_importances)\n",
    "plt.show()"
   ]
  },
  {
   "cell_type": "markdown",
   "metadata": {},
   "source": [
    "##### Durch die feature importances wurde klar, dass zuvor ausgelassene Spalten (CompetitionOpenSinceMonth und CompetitionOpenSinceYear) doch bedeutungsvoll sind. Außerdem performen die eingebauten features nicht sehr gut, allerdings verbessern sie trotzdem das Modell"
   ]
  },
  {
   "cell_type": "markdown",
   "metadata": {},
   "source": [
    "## Permutation importance"
   ]
  },
  {
   "cell_type": "code",
   "execution_count": 27,
   "metadata": {},
   "outputs": [
    {
     "data": {
      "image/png": "[encoded data removed]",
      "text/plain": [
       "<Figure size 1000x500 with 1 Axes>"
      ]
     },
     "metadata": {},
     "output_type": "display_data"
    }
   ],
   "source": [
    "from sklearn.inspection import permutation_importance\n",
    "\n",
    "result = permutation_importance(model, X, y, n_repeats=10, random_state=42, n_jobs=5)\n",
    "sorted_idx = result.importances_mean.argsort()\n",
    "\n",
    "plt.figure(figsize=(10,5))\n",
    "plt.barh(X.columns[sorted_idx], result.importances_mean[sorted_idx])\n",
    "plt.xlabel(\"Permutation Importance\")\n",
    "plt.show()"
   ]
  },
  {
   "cell_type": "markdown",
   "metadata": {},
   "source": [
    "## Modelle"
   ]
  },
  {
   "cell_type": "code",
   "execution_count": 28,
   "metadata": {},
   "outputs": [],
   "source": [
    "from sklearn.model_selection import train_test_split\n",
    "from math import sqrt\n",
    "from sklearn.model_selection import GridSearchCV\n",
    "from sklearn.metrics import mean_squared_error\n",
    "from sklearn.metrics import r2_score\n",
    "\n",
    "X = merged_df.drop('Sales', axis=1)\n",
    "\n",
    "# Customers Spalte entfernen, weil es nicht Zielführend für die KI ist -> Es sollen ja ZUKÜNFTIGE Verkäufe vorhergesagt werden, dort wird die Anzahl der Kunden nicht bekannt sein\n",
    "# Ein Denkansatz könnte sein eine KI zu bauen, die die Anzahl der Customers vorhersagt an einem tag vorhersagt, um es als Feature mit aufzunehmen und beim genaueren vorhersagen der Verkäufe zu unterstützen\n",
    "X.drop('Customers', axis=1, inplace=True)\n",
    "y = merged_df['Sales']\n",
    "X_train, X_test, y_train, y_test = train_test_split(X, y, test_size=0.2, random_state=42)\n",
    "X_train_sample = X_train[:100000]\n",
    "y_train_sample = y_train[:100000]\n",
    "X_test_sample = X_test[:100000]\n",
    "y_test_sample = y_test[:100000]"
   ]
  },
  {
   "cell_type": "markdown",
   "metadata": {},
   "source": [
    "## Neuronales Netzwerk Training mit Lernrate-Anpassung\n",
    "\n",
    "Dieser Code trainiert ein neuronales Netz zum Predicten von Daten:\n",
    "\n",
    "- **Zweck**: \n",
    "  - Das Ziel des Codes ist es, ein neuronales Netzwerk zu trainieren, das in der Lage ist, Vorhersagen zu treffen. \n",
    "  - Dabei wird die Lernrate des Netzwerks während des Trainings angepasst, um die Genauigkeit zu verbessern.\n",
    "\n",
    "- **Was passiert**:\n",
    "  - **Modelltraining**: Das Modell wird Schritt für Schritt mit Trainingsdaten verbessert.\n",
    "  - **Lernraten-Anpassung**: Die Lernrate bestimmt, wie schnell das Modell lernt. Während des Trainings wird sie geändert, um die Leistung zu verbessern.\n",
    "\n",
    "- **Warum ist das nützlich**:\n",
    "  - Dieser Code ist nützlich, um ein einfaches neuronales Netzwerk für Vorhersageaufgaben zu trainieren.\n",
    "  - Durch die Anpassung der Lernrate kann die Genauigkeit des Modells verbessert werden.\n",
    "\n"
   ]
  },
  {
   "cell_type": "code",
   "execution_count": 29,
   "metadata": {},
   "outputs": [
    {
     "name": "stderr",
     "output_type": "stream",
     "text": [
      "Training Neural Network:  83%|████████▎ | 83/100 [03:12<00:39,  2.32s/it]c:\\Users\\tyron\\AppData\\Local\\Programs\\Python\\Python312\\Lib\\site-packages\\sklearn\\neural_network\\_multilayer_perceptron.py:698: UserWarning: Training interrupted by user.\n",
      "  warnings.warn(\"Training interrupted by user.\")\n",
      "Training Neural Network:  94%|█████████▍| 94/100 [03:36<00:13,  2.26s/it]c:\\Users\\tyron\\AppData\\Local\\Programs\\Python\\Python312\\Lib\\site-packages\\sklearn\\neural_network\\_multilayer_perceptron.py:698: UserWarning: Training interrupted by user.\n",
      "  warnings.warn(\"Training interrupted by user.\")\n",
      "Training Neural Network: 100%|██████████| 100/100 [03:49<00:00,  2.30s/it]\n"
     ]
    },
    {
     "data": {
      "image/png": "[encoded data removed]",
      "text/plain": [
       "<Figure size 800x600 with 1 Axes>"
      ]
     },
     "metadata": {},
     "output_type": "display_data"
    },
    {
     "name": "stdout",
     "output_type": "stream",
     "text": [
      "Höchste Genauigkeit: 0.7853 erreicht in Iteration 100\n"
     ]
    }
   ],
   "source": [
    "from sklearn.neural_network import MLPRegressor\n",
    "from sklearn.metrics import r2_score\n",
    "from sklearn.preprocessing import StandardScaler\n",
    "from sklearn.model_selection import train_test_split\n",
    "import matplotlib.pyplot as plt\n",
    "from tqdm import tqdm\n",
    "\n",
    "def NN(X_train, X_test, y_train, y_test):\n",
    "    scaler = StandardScaler()\n",
    "    X_train_scaled = scaler.fit_transform(X_train)\n",
    "    X_test_scaled = scaler.transform(X_test)\n",
    "    \n",
    "    nn = MLPRegressor(hidden_layer_sizes=(50, 50), max_iter=100, random_state=42, solver='adam', alpha=0.0001, tol=1e-4, batch_size='auto')\n",
    "    \n",
    "    # Lernratenplaner-Parameter\n",
    "    initial_lr = 0.001\n",
    "    lr_decay = 0.9\n",
    "    lr = initial_lr\n",
    "    \n",
    "    accuracies = []  # Um Genauigkeiten über Iterationen zu speichern\n",
    "    \n",
    "    # Fortschrittsüberwachung initialisieren\n",
    "    progress_bar = tqdm(total=nn.max_iter, desc=\"Training Neural Network\", position=0)\n",
    "\n",
    "    highest_accuracy = 0.0  # Um die höchste Genauigkeit zu verfolgen\n",
    "    iteration_with_highest_accuracy = 0  # Um die Iteration mit der höchsten Genauigkeit zu verfolgen\n",
    "\n",
    "    for i in range(nn.max_iter):\n",
    "        # Lernrate basierend auf dem Planer aktualisieren\n",
    "        nn.learning_rate_init = lr\n",
    "        \n",
    "        # Training für eine Iteration\n",
    "        nn.partial_fit(X_train_scaled, y_train)\n",
    "        \n",
    "        # Lernrate für die nächste Iteration aktualisieren\n",
    "        lr *= lr_decay\n",
    "        \n",
    "        # Vorhersage\n",
    "        y_pred = nn.predict(X_test_scaled)\n",
    "\n",
    "        # Bewertung\n",
    "        accuracy = r2_score(y_test, y_pred)\n",
    "        accuracies.append(accuracy)\n",
    "        \n",
    "        # Höchste Genauigkeit und dazugehörige Iteration aktualisieren\n",
    "        if accuracy > highest_accuracy:\n",
    "            highest_accuracy = accuracy\n",
    "            iteration_with_highest_accuracy = i + 1\n",
    "        \n",
    "        progress_bar.update(1)\n",
    "\n",
    "    progress_bar.close()\n",
    "\n",
    "    # Genauigkeit über Iterationen plotten\n",
    "    plt.figure(figsize=(8, 6))\n",
    "    plt.plot(range(1, nn.max_iter + 1), accuracies, color='blue')\n",
    "    plt.plot(iteration_with_highest_accuracy, highest_accuracy, marker='o', markersize=8, color='red', label=f'Höchste Genauigkeit: {highest_accuracy:.4f}')\n",
    "    plt.xlabel('Iteration')\n",
    "    plt.ylabel('Genauigkeit')\n",
    "    plt.title('Genauigkeitsentwicklung über Iterationen')\n",
    "    plt.legend()\n",
    "    plt.show()\n",
    "\n",
    "    print(f\"Höchste Genauigkeit: {highest_accuracy:.4f} erreicht in Iteration {iteration_with_highest_accuracy}\")\n",
    "\n",
    "# Beispiel-Nutzung:\n",
    "X_train, X_test, y_train, y_test = train_test_split(X, y, test_size=0.2, random_state=42)\n",
    "NN(X_train, X_test, y_train, y_test)\n"
   ]
  },
  {
   "cell_type": "markdown",
   "metadata": {},
   "source": [
    "## Neuronales Netzwerk Training mit Anpassung der Lernrate und Embeddings\n",
    "\n",
    "Dieser Code trainiert ein neuronales Netzwerk, um Vorhersagen zu treffen und verwendet Embeddings. Hier ist eine vereinfachte Erklärung:\n",
    "\n",
    "- **Zweck**: \n",
    "  - Das Ziel des Codes ist es, ein neuronales Netzwerk zu trainieren, das Vorhersagen treffen kann. \n",
    "  - Während des Trainings wird die Lernrate des Netzwerks angepasst, um die Genauigkeit zu verbessern.\n",
    "  - Außerdem werden Embeddings verwendet, um kategoriale Daten effizient darzustellen.\n",
    "\n",
    "- **Was passiert**:\n",
    "  - **Modelltraining**: Das Modell wird schrittweise verbessert, indem es mit Trainingsdaten trainiert wird.\n",
    "  - **Lernraten-Anpassung**: Die Lernrate, die bestimmt, wie schnell das Modell lernt, wird im Laufe des Trainings geändert, um die Leistung zu verbessern.\n",
    "  - **Embeddings**: Embeddings sind eine Technik, um kategoriale Daten in einem neuronalen Netzwerk zu repräsentieren. Sie helfen dem Netzwerk dabei, kategoriale Informationen besser zu verstehen, indem sie die Daten in einem mehrdimensionalen Raum abbilden.\n",
    "\n",
    "- **Warum ist das nützlich**:\n",
    "  - Dieser Code ist nützlich, um ein neuronales Netzwerk zu trainieren, das Vorhersagen treffen kann, selbst wenn die Daten kategoriale Variablen enthalten.\n",
    "  - Die Verwendung von Embeddings kann dazu beitragen, die Leistung des Netzwerks zu verbessern, indem sie komplexe Beziehungen zwischen den kategorialen Daten erfassen.\n",
    "\n",
    "\n"
   ]
  },
  {
   "cell_type": "code",
   "execution_count": null,
   "metadata": {},
   "outputs": [],
   "source": [
    "import matplotlib.pyplot as plt\n",
    "from keras.layers import Input, Embedding, Flatten, concatenate, Dense\n",
    "from keras.models import Model\n",
    "from keras.optimizers import Adam\n",
    "from keras.callbacks import EarlyStopping\n",
    "from sklearn.metrics import accuracy_score\n",
    "from sklearn.model_selection import train_test_split\n",
    "from sklearn.preprocessing import StandardScaler\n",
    "import numpy as np\n",
    "import pandas as pd\n",
    "\n",
    "def NN_embedding(X_train, X_test, y_train, y_test, epochs=50, batch_size=32):\n",
    "    # Daten in numerische und kategoriale aufteilen\n",
    "    numerical_train = X_train.select_dtypes(include=['int64', 'float64'])\n",
    "    categorical_train = X_train.select_dtypes(include=['object'])\n",
    "\n",
    "    numerical_test = X_test.select_dtypes(include=['int64', 'float64'])\n",
    "    categorical_test = X_test.select_dtypes(include=['object'])\n",
    "\n",
    "    # Numerische Daten normalisieren\n",
    "    scaler = StandardScaler()\n",
    "    numerical_train = scaler.fit_transform(numerical_train)\n",
    "    numerical_test = scaler.transform(numerical_test)\n",
    "\n",
    "    # Kategoriale Daten one-hot encoden, falls vorhanden\n",
    "    if not categorical_train.empty:\n",
    "        categorical_train = pd.get_dummies(categorical_train)\n",
    "        categorical_test = pd.get_dummies(categorical_test)\n",
    "\n",
    "        # Numerische und kategoriale Daten kombinieren\n",
    "        X_train = np.concatenate([numerical_train, categorical_train.to_numpy()], axis=1)\n",
    "        X_test = np.concatenate([numerical_test, categorical_test.to_numpy()], axis=1)\n",
    "    else:\n",
    "        # Wenn keine kategorialen Spalten vorhanden sind, nur numerische Daten verwenden\n",
    "        X_train = numerical_train\n",
    "        X_test = numerical_test\n",
    "\n",
    "    # Modell definieren\n",
    "    numerical_inputs = Input(shape=(numerical_train.shape[1],))\n",
    "    categorical_inputs = Input(shape=(categorical_train.shape[1],))\n",
    "\n",
    "    # Embedding-Schichten für die kategorialen Daten\n",
    "    embedding_layers = []\n",
    "    for i in range(categorical_train.shape[1]):\n",
    "        input_dim = categorical_train.iloc[:, i].nunique()\n",
    "        embedding_dim = min(50, input_dim // 2)\n",
    "        embedding_layers.append(Embedding(input_dim=input_dim, output_dim=embedding_dim)(categorical_inputs[:, i]))\n",
    "\n",
    "    # Embedding-Schichten flatten\n",
    "    embedding_layers = [Flatten()(embedding) for embedding in embedding_layers]\n",
    "\n",
    "    # Numerische und flatten Embedding-Schichten concatenieren\n",
    "    if not categorical_train.empty:\n",
    "        x = concatenate([numerical_inputs] + embedding_layers)\n",
    "    else:\n",
    "        x = numerical_inputs\n",
    "\n",
    "    # Vollständig verbundene Schicht hinzufügen\n",
    "    x = Dense(100, activation='relu')(x)\n",
    "\n",
    "    # Ausgabeschicht hinzufügen\n",
    "    output = Dense(1)(x)\n",
    "\n",
    "    # Modell erstellen\n",
    "    model = Model(inputs=[numerical_inputs, categorical_inputs], outputs=output)\n",
    "\n",
    "    # Modell kompilieren\n",
    "    model.compile(optimizer=Adam(), loss='mean_squared_error', metrics=['accuracy'])\n",
    "\n",
    "    # Frühstopp-Callback definieren\n",
    "    early_stopping = EarlyStopping(monitor='val_loss', patience=5, restore_best_weights=True)\n",
    "\n",
    "    # Modell mit Frühstopp trainieren\n",
    "    history = model.fit([numerical_train, categorical_train.to_numpy()], y_train, epochs=epochs, batch_size=batch_size, validation_split=0.2, callbacks=[early_stopping])\n",
    "\n",
    "    # Modell evaluieren\n",
    "    _, accuracy = model.evaluate([numerical_test, categorical_test.to_numpy()], y_test)\n",
    "\n",
    "    return accuracy\n",
    "\n",
    "# Beispieldaten verwenden, um die Wartezeit zu reduzieren\n",
    "X_train_sample = X_train[:100000]\n",
    "y_train_sample = y_train[:100000]\n",
    "X_test_sample = X_test[:100000]\n",
    "y_test_sample = y_test[:100000]\n",
    "\n",
    "epochs_list = [10, 25, 50, 100, 150]\n",
    "batch_sizes = [32, 16]\n",
    "\n",
    "accuracy_scores = []\n",
    "best_accuracy = 0\n",
    "best_combination = None\n",
    "\n",
    "for epochs in epochs_list:\n",
    "    for batch_size in batch_sizes:\n",
    "        print(f\"Epochen: {epochs}, Batch-Größe: {batch_size}\")\n",
    "        accuracy = NN_embedding(X_train_sample, X_test_sample, y_train_sample, y_test_sample, epochs=epochs, batch_size=batch_size)\n",
    "        accuracy_scores.append((epochs, batch_size, accuracy))\n",
    "        if accuracy > best_accuracy:\n",
    "            best_accuracy = accuracy\n",
    "            best_combination = (epochs, batch_size)\n",
    "\n",
    "print(f\"Beste Genauigkeit: {best_accuracy} bei Epochen: {best_combination[0]} und Batch-Größe: {best_combination[1]}\")\n",
    "\n",
    "# Genauigkeitsergebnisse plotten\n",
    "plt.figure(figsize=(10, 6))\n",
    "for batch_size in batch_sizes:\n",
    "    batch_size_scores = [(epochs, acc) for epochs, bs, acc in accuracy_scores if bs == batch_size]\n",
    "    epochs, scores = zip(*batch_size_scores)\n",
    "    plt.plot(epochs, scores, label=f'Batch-Größe {batch_size}')\n",
    "\n",
    "plt.scatter(best_combination[0], best_accuracy, color='red', label=f'Beste Kombination: {best_combination}', zorder=5)\n",
    "plt.xlabel('Epochen')\n",
    "plt.ylabel('Genauigkeit')\n",
    "plt.title('Genauigkeit vs. Epochen für verschiedene Batch-Größen mit Frühstopp')\n",
    "plt.legend()\n",
    "plt.grid(True)\n",
    "plt.show()\n"
   ]
  },
  {
   "cell_type": "markdown",
   "metadata": {},
   "source": [
    "## Misserfolg des Embedding NN \n",
    "Nach mehreren Versuchen und Experimenten im Projekt haben wir festgestellt, dass wir Schwierigkeiten hatten, Embeddings effektiv in unser neuronales Netzwerk zu integrieren und damit ein zufriedenstellendes Ergebnis zu erzielen. Trotz der vielversprechenden Möglichkeit, kategoriale Daten mit Embeddings zu repräsentieren und dadurch die Leistung des Netzwerks zu verbessern, konnten wir keine signifikante Verbesserung der Vorhersagegenauigkeit erreichen.\n",
    "\n",
    "Dieser Misserfolg wird auch deutlich, wenn man den Graphen betrachtet, der die Genauigkeit in Abhängigkeit von den Epochen für verschiedene Batch-Größen zeigt. Die Kurven zeigen keine klare Tendenz zu einer Verbesserung der Genauigkeit über die Epochen hinweg, was darauf hinweist, dass das Embedding-Modell keine guten Ergebnisse erzielt hat"
   ]
  },
  {
   "cell_type": "markdown",
   "metadata": {},
   "source": [
    "## KNN"
   ]
  },
  {
   "cell_type": "code",
   "execution_count": null,
   "metadata": {},
   "outputs": [],
   "source": [
    "def KNN(X_train, X_test, y_train, y_test):\n",
    "    from sklearn.neighbors import KNeighborsRegressor\n",
    "\n",
    "    knn = KNeighborsRegressor(n_neighbors=5, weights=\"distance\",algorithm=\"ball_tree\", n_jobs=-1)\n",
    "    knn.fit(X_train, y_train)\n",
    "    return knn\n",
    "    y_pred = knn.predict(X_test)\n",
    "\n",
    "    print(f\"Accuracy: {r2_score(y_test, y_pred):.5f}\")\n",
    "    print(f\"RMSE: {sqrt(mean_squared_error(y_test, y_pred))}\")\n",
    "\n",
    "# KNN(X_train_sample, X_test_sample, y_train_sample, y_test_sample)"
   ]
  },
  {
   "cell_type": "markdown",
   "metadata": {},
   "source": [
    "## Decision Tree"
   ]
  },
  {
   "cell_type": "code",
   "execution_count": null,
   "metadata": {},
   "outputs": [],
   "source": [
    "def DT(X_train, X_test, y_train, y_test):\n",
    "    from sklearn.tree import DecisionTreeRegressor\n",
    "\n",
    "    dt = DecisionTreeRegressor(max_depth=None, min_samples_leaf=4, min_samples_split=10, splitter='best', random_state=42)\n",
    "    dt.fit(X_train, y_train)\n",
    "    return dt\n",
    "    y_pred = dt.predict(X_test)\n",
    "\n",
    "    print(f\"Accuracy: {r2_score(y_test, y_pred):.5f}\")\n",
    "    print(f\"RMSE: {sqrt(mean_squared_error(y_test, y_pred))}\")\n",
    "\n",
    "# DT(X_train, X_test, y_train, y_test)"
   ]
  },
  {
   "cell_type": "markdown",
   "metadata": {},
   "source": [
    "## Random Forest"
   ]
  },
  {
   "cell_type": "code",
   "execution_count": null,
   "metadata": {},
   "outputs": [],
   "source": [
    "from sklearn.ensemble import RandomForestRegressor\n",
    "def RF(X_train, X_test, y_train, y_test):\n",
    "\n",
    "    rf = RandomForestRegressor(random_state=42,n_jobs=-1,max_depth=None, min_samples_leaf=1, min_samples_split=2, n_estimators=300)\n",
    "    rf.fit(X_train, y_train)\n",
    "    return rf\n",
    "    y_pred = rf.predict(X_test)\n",
    "\n",
    "    print(f\"Accuracy: {r2_score(y_test, y_pred):.5f}\")\n",
    "    print(f\"RMSE: {sqrt(mean_squared_error(y_test, y_pred))}\")\n",
    "\n",
    "# RF(X_train, X_test, y_train, y_test)"
   ]
  },
  {
   "cell_type": "markdown",
   "metadata": {},
   "source": [
    "## Ada boost"
   ]
  },
  {
   "cell_type": "code",
   "execution_count": null,
   "metadata": {},
   "outputs": [],
   "source": [
    "# Ada boost -> Performance ist nicht so gut, also nicht Teil des Votings\n",
    "from sklearn.ensemble import AdaBoostRegressor\n",
    "def Ada(X_train, X_test, y_train, y_test):\n",
    "    ada = AdaBoostRegressor(random_state=42, n_estimators=300, learning_rate=0.01)\n",
    "    ada.fit(X_train, y_train)\n",
    "    y_pred = ada.predict(X_test)\n",
    "\n",
    "    print(f\"Accuracy: {r2_score(y_test, y_pred):.5f}\")\n",
    "    print(f\"RMSE: {sqrt(mean_squared_error(y_test, y_pred))}\")\n",
    "\n",
    "# Ada(X_train, X_test, y_train, y_test)"
   ]
  },
  {
   "cell_type": "markdown",
   "metadata": {},
   "source": [
    "## Gradient boost"
   ]
  },
  {
   "cell_type": "code",
   "execution_count": null,
   "metadata": {},
   "outputs": [],
   "source": [
    "# Gradient Boost\n",
    "from sklearn.ensemble import GradientBoostingRegressor\n",
    "def GB(X_train, X_test, y_train, y_test):\n",
    "    gb = GradientBoostingRegressor(random_state=42, n_estimators=300, learning_rate=0.1, max_depth=8)\n",
    "    gb.fit(X_train, y_train)\n",
    "    return gb\n",
    "    y_pred = gb.predict(X_test)\n",
    "\n",
    "    print(f\"Accuracy: {r2_score(y_test, y_pred):.5f}\")\n",
    "    print(f\"RMSE: {sqrt(mean_squared_error(y_test, y_pred))}\")\n",
    "\n",
    "# GB(X_train_sample, X_test_sample, y_train_sample, y_test_sample)"
   ]
  },
  {
   "cell_type": "markdown",
   "metadata": {},
   "source": [
    "## XGBoost"
   ]
  },
  {
   "cell_type": "code",
   "execution_count": null,
   "metadata": {},
   "outputs": [],
   "source": [
    "# XGBoost\n",
    "import xgboost as xgb\n",
    "def XGB(X_train, X_test, y_train, y_test):\n",
    "    xg_reg = xgb.XGBRegressor(learning_rate=0.1, max_depth=8, n_estimators=300, random_state=42, n_jobs=-1)\n",
    "    xg_reg.fit(X_train,y_train)\n",
    "    return xg_reg\n",
    "    y_pred = xg_reg.predict(X_test)\n",
    "\n",
    "    print(f\"Accuracy: {r2_score(y_test, y_pred):.5f}\")\n",
    "    print(f\"RMSE: {sqrt(mean_squared_error(y_test, y_pred))}\")\n",
    "# XGB(X_train, X_test, y_train, y_test)\n",
    "\n",
    "# Accuracy: 0.94888\n",
    "# RMSE: 869.479396084539"
   ]
  },
  {
   "cell_type": "markdown",
   "metadata": {},
   "source": [
    "## SVM"
   ]
  },
  {
   "cell_type": "code",
   "execution_count": null,
   "metadata": {},
   "outputs": [],
   "source": [
    "# Support Vector machine\n",
    "from sklearn.svm import SVR\n",
    "def SVM(X_train, X_test, y_train, y_test):\n",
    "    svr = SVR(kernel=\"rbf\", C=1, epsilon=0.1)\n",
    "    svr.fit(X_train, y_train)\n",
    "    y_pred = svr.predict(X_test)\n",
    "\n",
    "    print(f\"Accuracy: {r2_score(y_test, y_pred):.5f}\")\n",
    "    print(f\"RMSE: {sqrt(mean_squared_error(y_test, y_pred))}\")\n",
    "\n",
    "# SVM(X_train_sample, X_test_sample, y_train_sample, y_test_sample)\n",
    "# Ergebnis extrem schlecht, daher nicht weiter betrachtet"
   ]
  },
  {
   "cell_type": "markdown",
   "metadata": {},
   "source": [
    "## Logistic regression"
   ]
  },
  {
   "cell_type": "code",
   "execution_count": null,
   "metadata": {},
   "outputs": [],
   "source": [
    "# Logistic Regression\n",
    "from sklearn.linear_model import LinearRegression\n",
    "def LR(X_train, X_test, y_train, y_test):\n",
    "    lr = LinearRegression(n_jobs=-1)\n",
    "    lr.fit(X_train, y_train)\n",
    "    y_pred = lr.predict(X_test)\n",
    "\n",
    "    print(f\"Accuracy: {r2_score(y_test, y_pred):.5f}\")\n",
    "    print(f\"RMSE: {sqrt(mean_squared_error(y_test, y_pred))}\")\n",
    "\n",
    "# LR(X_train, X_test, y_train, y_test)"
   ]
  },
  {
   "cell_type": "markdown",
   "metadata": {},
   "source": [
    "## Modelloptimierung"
   ]
  },
  {
   "cell_type": "code",
   "execution_count": null,
   "metadata": {},
   "outputs": [],
   "source": [
    "# KNN = 1\n",
    "# Gradient Boost = 2\n",
    "# Decision Tree = 3\n",
    "# Random Forest = 4\n",
    "# XG Boost = 5\n",
    "optimize = 0"
   ]
  },
  {
   "cell_type": "markdown",
   "metadata": {},
   "source": [
    "## KNN Optimizer"
   ]
  },
  {
   "cell_type": "code",
   "execution_count": null,
   "metadata": {},
   "outputs": [
    {
     "name": "stderr",
     "output_type": "stream",
     "text": [
      "100%|██████████| 24/24 [08:53<00:00, 22.23s/it]"
     ]
    },
    {
     "name": "stdout",
     "output_type": "stream",
     "text": [
      "{'algorithm': 'ball_tree', 'leaf_size': 10, 'n_neighbors': 5, 'weights': 'distance'}\n",
      "0.43331223882376896\n"
     ]
    },
    {
     "name": "stderr",
     "output_type": "stream",
     "text": [
      "\n"
     ]
    }
   ],
   "source": [
    "if optimize == 1:\n",
    "    from sklearn.neighbors import KNeighborsRegressor\n",
    "    from tqdm import tqdm\n",
    "    from sklearn.model_selection import GridSearchCV\n",
    "    from tqdm import tqdm\n",
    "    tqdm.pandas()\n",
    "\n",
    "    knn = KNeighborsRegressor()\n",
    "    param_grid = {\n",
    "        'n_neighbors': [3, 5, 7, 9],\n",
    "        'weights': ['uniform', 'distance'],\n",
    "        'algorithm': ['ball_tree'],\n",
    "        'leaf_size': [10, 20, 30]\n",
    "    }\n",
    "\n",
    "    grid_search = GridSearchCV(knn, param_grid, cv=5, n_jobs=-1)\n",
    "\n",
    "    with tqdm(total=len(param_grid['n_neighbors']) * len(param_grid['weights']) * len(param_grid['algorithm']) * len(param_grid['leaf_size'])) as pbar:\n",
    "        for n_neighbors in param_grid['n_neighbors']:\n",
    "            for weights in param_grid['weights']:\n",
    "                for algorithm in param_grid['algorithm']:\n",
    "                    for leaf_size in param_grid['leaf_size']:\n",
    "                        grid_search.fit(X_train_sample, y_train_sample)\n",
    "                        pbar.update(1)\n",
    "\n",
    "    print(grid_search.best_params_)\n",
    "    print(grid_search.best_score_)"
   ]
  },
  {
   "cell_type": "markdown",
   "metadata": {},
   "source": [
    "## Gradient Boost Optimizer"
   ]
  },
  {
   "cell_type": "code",
   "execution_count": null,
   "metadata": {},
   "outputs": [],
   "source": [
    "if optimize == 2:\n",
    "    gb = GradientBoostingRegressor()\n",
    "    param_grid = {\n",
    "        'n_estimators': [100, 200, 300],\n",
    "        'learning_rate': [0.01, 0.1, 1],\n",
    "        'max_depth': [3, 5, 8]\n",
    "    }\n",
    "    grid_search = GridSearchCV(gb, param_grid, cv=5, n_jobs=-1)\n",
    "\n",
    "    with tqdm(total=len(param_grid['n_estimators']) * len(param_grid['learning_rate']) * len(param_grid['max_depth'])) as pbar:\n",
    "        for n_estimators in param_grid['n_estimators']:\n",
    "            for learning_rate in param_grid['learning_rate']:\n",
    "                for max_depth in param_grid['max_depth']:\n",
    "                    grid_search.fit(X_train_sample, y_train_sample)\n",
    "                    pbar.update(1)\n",
    "\n",
    "    print(grid_search.best_params_)\n",
    "    print(grid_search.best_score_)"
   ]
  },
  {
   "cell_type": "markdown",
   "metadata": {},
   "source": [
    "## Decision Tree Optimizer"
   ]
  },
  {
   "cell_type": "code",
   "execution_count": null,
   "metadata": {},
   "outputs": [],
   "source": [
    "if optimize == 3:\n",
    "    from sklearn.tree import DecisionTreeRegressor\n",
    "    from sklearn.model_selection import GridSearchCV\n",
    "\n",
    "    dt = DecisionTreeRegressor()\n",
    "    param_grid = {\n",
    "        'max_depth': [None, 3, 5, 8],\n",
    "        'min_samples_split': [2, 5, 10],\n",
    "        'min_samples_leaf': [1, 2, 4, 8, 12],\n",
    "        'splitter' : ['best', 'random'],\n",
    "        'random_state': [42]\n",
    "    }\n",
    "    grid_search = GridSearchCV(dt, param_grid, cv=5, n_jobs=-1)\n",
    "    \n",
    "    with tqdm(total=len(param_grid['max_depth']) * len(param_grid['min_samples_split']) * len(param_grid['min_samples_leaf'])) as pbar:\n",
    "        for max_depth in param_grid['max_depth']:\n",
    "            for min_samples_split in param_grid['min_samples_split']:\n",
    "                for min_samples_leaf in param_grid['min_samples_leaf']:\n",
    "                    for splitter in param_grid['splitter']:\n",
    "                        grid_search.fit(X_train_sample, y_train_sample)\n",
    "                        pbar.update(1)\n",
    "\n",
    "    print(grid_search.best_params_)\n",
    "    print(grid_search.best_score_)"
   ]
  },
  {
   "cell_type": "markdown",
   "metadata": {},
   "source": [
    "## Random Forest Optimizer"
   ]
  },
  {
   "cell_type": "code",
   "execution_count": null,
   "metadata": {},
   "outputs": [],
   "source": [
    "if optimize == 4:\n",
    "    from sklearn.ensemble import RandomForestRegressor\n",
    "    from sklearn.model_selection import GridSearchCV\n",
    "    from tqdm import tqdm\n",
    "\n",
    "    rf = RandomForestRegressor()\n",
    "    param_grid = {\n",
    "        'n_estimators': [100, 200, 300],\n",
    "        'max_depth': [None, 3, 5, 8],\n",
    "        'min_samples_split': [2, 5, 10 ],\n",
    "        'min_samples_leaf': [1, 2, 4, 8, 12],\n",
    "        'random_state': [42],\n",
    "        'n_jobs': [-1]\n",
    "    }\n",
    "    grid_search = GridSearchCV(rf, param_grid, cv=5, n_jobs=-1)\n",
    "\n",
    "    with tqdm(total=len(param_grid['n_estimators']) * len(param_grid['max_depth']) * len(param_grid['min_samples_split']) * len(param_grid['min_samples_leaf'])) as pbar:\n",
    "        for n_estimators in param_grid['n_estimators']:\n",
    "            for max_depth in param_grid['max_depth']:\n",
    "                for min_samples_split in param_grid['min_samples_split']:\n",
    "                    for min_samples_leaf in param_grid['min_samples_leaf']:\n",
    "                        grid_search.fit(X_train_sample, y_train_sample)\n",
    "                        pbar.update(1)\n",
    "\n",
    "    print(grid_search.best_params_)\n",
    "    print(grid_search.best_score_)"
   ]
  },
  {
   "cell_type": "markdown",
   "metadata": {},
   "source": [
    "## XGBoost Optimizer"
   ]
  },
  {
   "cell_type": "code",
   "execution_count": null,
   "metadata": {},
   "outputs": [],
   "source": [
    "if optimize == 5:\n",
    "    import xgboost as xgb\n",
    "    from sklearn.model_selection import GridSearchCV\n",
    "    from tqdm import tqdm\n",
    "\n",
    "    xg_reg = xgb.XGBRegressor()\n",
    "    param_grid = {\n",
    "        'n_estimators': [100, 200, 300],\n",
    "        'learning_rate': [0.01, 0.1, 1],\n",
    "        'max_depth': [3, 5, 8]\n",
    "    }\n",
    "    grid_search = GridSearchCV(xg_reg, param_grid, cv=5, n_jobs=-1)\n",
    "\n",
    "    with tqdm(total=len(param_grid['n_estimators']) * len(param_grid['learning_rate']) * len(param_grid['max_depth'])) as pbar:\n",
    "        for n_estimators in param_grid['n_estimators']:\n",
    "            for learning_rate in param_grid['learning_rate']:\n",
    "                for max_depth in param_grid['max_depth']:\n",
    "                    grid_search.fit(X_train_sample, y_train_sample)\n",
    "                    pbar.update(1)\n",
    "\n",
    "    print(grid_search.best_params_)\n",
    "    print(grid_search.best_score_)"
   ]
  },
  {
   "cell_type": "markdown",
   "metadata": {},
   "source": [
    "## Voting Verfahren"
   ]
  },
  {
   "cell_type": "markdown",
   "metadata": {},
   "source": [
    "### Es wurden die besten Verfahren gewählt, näher angeschaut und in ein Voting Ensemble integriert"
   ]
  },
  {
   "cell_type": "code",
   "execution_count": null,
   "metadata": {},
   "outputs": [],
   "source": [
    "# Mode 0 = Nicht Trainieren, Mode 1 = Trainieren, Mode 2 = Kaggle Submission\n",
    "submission = 1\n",
    "sample_size = 0\n",
    "\n",
    "# Voting verfahren\n",
    "from sklearn.ensemble import VotingRegressor\n",
    "def VR(X_train, X_test, y_train, y_test, submission):\n",
    "    knn = KNN(X_train, X_test, y_train, y_test)\n",
    "    dt = DT(X_train, X_test, y_train, y_test)\n",
    "    rf = RF(X_train, X_test, y_train, y_test)\n",
    "    gb = GB(X_train, X_test, y_train, y_test)\n",
    "    xgb = XGB(X_train, X_test, y_train, y_test)\n",
    "\n",
    "    vr = VotingRegressor(estimators=[('knn', knn), ('dt', dt), ('rf', rf), ('gb', gb), ('xgb', xgb)])\n",
    "    vr.fit(X_train, y_train)\n",
    "\n",
    "    if submission == 1:\n",
    "        y_pred = vr.predict(X_test)\n",
    "\n",
    "        print(f\"Accuracy: {r2_score(y_test, y_pred):.5f}\")\n",
    "        print(f\"RMSE: {sqrt(mean_squared_error(y_test, y_pred))}\")\n",
    "    elif submission == 2:\n",
    "        y_pred = vr.predict(merged_df_test)\n",
    "        output = pd.DataFrame()\n",
    "        output['Id'] = df_test_ids\n",
    "        output['Sales'] = y_pred\n",
    "        output.set_index('Id', inplace=True)\n",
    "        output.to_csv('submission_neu.csv', sep=',', index=True)\n",
    "\n",
    "if submission!=0:\n",
    "    if sample_size == 1:\n",
    "        VR(X_train_sample, X_test_sample, y_train_sample, y_test_sample, submission)\n",
    "    else:\n",
    "        VR(X_train, X_test, y_train, y_test, submission)\n",
    "\n",
    "print(\"End\")"
   ]
  }
 ],
 "metadata": {
  "kernelspec": {
   "display_name": "fa22b",
   "language": "python",
   "name": "python3"
  },
  "language_info": {
   "codemirror_mode": {
    "name": "ipython",
    "version": 3
   },
   "file_extension": ".py",
   "mimetype": "text/x-python",
   "name": "python",
   "nbconvert_exporter": "python",
   "pygments_lexer": "ipython3",
   "version": "3.12.1"
  }
 },
 "nbformat": 4,
 "nbformat_minor": 2
}
